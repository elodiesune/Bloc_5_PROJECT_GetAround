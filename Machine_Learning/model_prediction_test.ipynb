{
 "cells": [
  {
   "cell_type": "code",
   "execution_count": 10,
   "metadata": {},
   "outputs": [],
   "source": [
    "import joblib\n",
    "import numpy as np\n",
    "import pandas as pd"
   ]
  },
  {
   "cell_type": "code",
   "execution_count": 63,
   "metadata": {},
   "outputs": [],
   "source": [
    "# Load the joblib model\n",
    "model_file = joblib.load('xgboost_opt.joblib')\n",
    "model = model_file['model']\n",
    "feature_encoder = model_file['feature_encoder']\n",
    "scaler = model_file['scaler']\n"
   ]
  },
  {
   "cell_type": "code",
   "execution_count": 64,
   "metadata": {},
   "outputs": [
    {
     "name": "stdout",
     "output_type": "stream",
     "text": [
      "{'car_criteria': [{'model_key': 'Citroën', 'mileage': 140411, 'engine_power': 100, 'fuel': 'diesel', 'paint_color': 'black', 'car_type': 'convertible', 'private_parking_available': True, 'has_gps': True, 'has_air_conditioning': False, 'automatic_car': False, 'has_getaround_connect': True, 'has_speed_regulator': True, 'winter_tires': True}, {'model_key': 'Citroën', 'mileage': 13929, 'engine_power': 317, 'fuel': 'petrol', 'paint_color': 'grey', 'car_type': 'convertible', 'private_parking_available': True, 'has_gps': True, 'has_air_conditioning': False, 'automatic_car': False, 'has_getaround_connect': False, 'has_speed_regulator': True, 'winter_tires': True}]}\n"
     ]
    }
   ],
   "source": [
    "pricing = pd.read_csv('get_around_pricing_project.csv',index_col=0)\n",
    "pricing_without_target = pricing.iloc[:,:-1]\n",
    "input1 = pricing_without_target.iloc[0].to_dict()\n",
    "input2 = pricing_without_target.iloc[1].to_dict()\n",
    "# Input data should be resembling to this:\n",
    "input_data = {'car_criteria':[input1,input2]}\n",
    "print(input_data)"
   ]
  },
  {
   "cell_type": "code",
   "execution_count": 65,
   "metadata": {},
   "outputs": [],
   "source": [
    "# Define preprocessing:\n",
    "\n",
    "def preprocess_data(input_data):\n",
    "    # Create the list that will contain the preprocessed options:\n",
    "    preprocessed_data = []\n",
    "    for option in input_data['car_criteria']:\n",
    "        # Put each option of criteria into a dataframe\n",
    "        option_df = pd.DataFrame([option])\n",
    "        # Preprocess this dataframe\n",
    "        preprocessed_option_df = feature_encoder.transform(option_df)\n",
    "        preprocessed_option_array = preprocessed_option_df.toarray()\n",
    "        # Add preprocessed option to the final list:\n",
    "        preprocessed_data.append(preprocessed_option_array)\n",
    "  \n",
    "    # Convert the list of preprocessed data to a numpy array\n",
    "    preprocessed_data = np.concatenate(preprocessed_data, axis=0)\n",
    "\n",
    "    return preprocessed_data"
   ]
  },
  {
   "cell_type": "code",
   "execution_count": 68,
   "metadata": {},
   "outputs": [],
   "source": [
    "# Defining predictions:\n",
    "\n",
    "def predict_data(model, preprocessed_data):\n",
    "\n",
    "    normalized_predictions = model.predict(preprocessed_data)\n",
    "    # Reshape the normalized predictions if needed\n",
    "    if len(normalized_predictions.shape) == 1:\n",
    "        normalized_predictions = normalized_predictions.reshape(-1, 1)\n",
    "    \n",
    "    # Inverse transform the predictions to the original scale\n",
    "    predictions = scaler.inverse_transform(normalized_predictions)\n",
    "\n",
    "    return predictions"
   ]
  },
  {
   "cell_type": "code",
   "execution_count": 69,
   "metadata": {},
   "outputs": [
    {
     "name": "stdout",
     "output_type": "stream",
     "text": [
      "[[ 87.92895]\n",
      " [155.97945]]\n"
     ]
    }
   ],
   "source": [
    "# IN THE APP:\n",
    "\n",
    "# Preprocess the input data\n",
    "preprocessed_data = preprocess_data(input_data)\n",
    "\n",
    "# Make predictions using the loaded model and preprocessed data\n",
    "predictions = predict_data(model, preprocessed_data)\n",
    "\n",
    "# Print the predictions\n",
    "print(predictions)"
   ]
  },
  {
   "cell_type": "code",
   "execution_count": 73,
   "metadata": {},
   "outputs": [
    {
     "name": "stdout",
     "output_type": "stream",
     "text": [
      "scikit-learn version: 1.0.2\n",
      "joblib version: 1.2.0\n"
     ]
    }
   ],
   "source": [
    "# Check the versions of scikit-learn and joblib\n",
    "import sklearn\n",
    "print(f\"scikit-learn version: {sklearn.__version__}\")\n",
    "print(f\"joblib version: {joblib.__version__}\")\n"
   ]
  },
  {
   "cell_type": "code",
   "execution_count": null,
   "metadata": {},
   "outputs": [],
   "source": [
    "$ curl -i -H \"Content-Type: application/json\" -X POST -d '{'car_options': [{'model_key': 'Citroën', 'mileage': 140411, 'engine_power': 100, 'fuel': 'diesel', 'paint_color': 'black', 'car_type': 'convertible', 'private_parking_available': True, 'has_gps': True, 'has_air_conditioning': False, 'automatic_car': False, 'has_getaround_connect': True, 'has_speed_regulator': True, 'winter_tires': True}, {'model_key': 'Citroën', 'mileage': 13929, 'engine_power': 317, 'fuel': 'petrol', 'paint_color': 'grey', 'car_type': 'convertible', 'private_parking_available': True, 'has_gps': True, 'has_air_conditioning': False, 'automatic_car': False, 'has_getaround_connect': False, 'has_speed_regulator': True, 'winter_tires': True}]}' https://getaround-api-elo-16ab161d9781.herokuapp.com/predict"
   ]
  },
  {
   "cell_type": "code",
   "execution_count": null,
   "metadata": {},
   "outputs": [],
   "source": [
    "curl -i -H \"Content-Type: application/json\" -X POST -d \"{'car_options': [{'model_key': 'Citroën', 'mileage': 140411, 'engine_power': 100, 'fuel': 'diesel', 'paint_color': 'black', 'car_type': 'convertible', 'private_parking_available': True, 'has_gps': True, 'has_air_conditioning': False, 'automatic_car': False, 'has_getaround_connect': True, 'has_speed_regulator': True, 'winter_tires': True}, {'model_key': 'Citroën', 'mileage': 13929, 'engine_power': 317, 'fuel': 'petrol', 'paint_color': 'grey', 'car_type': 'convertible', 'private_parking_available': True, 'has_gps': True, 'has_air_conditioning': False, 'automatic_car': False, 'has_getaround_connect': False, 'has_speed_regulator': True, 'winter_tires': True}]}\" https://getaround-api-elo-16ab161d9781.herokuapp.com/predict"
   ]
  },
  {
   "cell_type": "code",
   "execution_count": 74,
   "metadata": {},
   "outputs": [
    {
     "name": "stdout",
     "output_type": "stream",
     "text": [
      "{'predictions': ['Option 1: 88 €', 'Option 2: 156 €']}\n"
     ]
    }
   ],
   "source": [
    "import requests\n",
    "\n",
    "response = requests.post(\"https://getaround-api-elo-16ab161d9781.herokuapp.com/predict\", json={'car_options': [{'model_key': 'Citroën', 'mileage': 140411, 'engine_power': 100, 'fuel': 'diesel', 'paint_color': 'black', 'car_type': 'convertible', 'private_parking_available': True, 'has_gps': True, 'has_air_conditioning': False, 'automatic_car': False, 'has_getaround_connect': True, 'has_speed_regulator': True, 'winter_tires': True}, {'model_key': 'Citroën', 'mileage': 13929, 'engine_power': 317, 'fuel': 'petrol', 'paint_color': 'grey', 'car_type': 'convertible', 'private_parking_available': True, 'has_gps': True, 'has_air_conditioning': False, 'automatic_car': False, 'has_getaround_connect': False, 'has_speed_regulator': True, 'winter_tires': True}]})\n",
    "print(response.json())"
   ]
  }
 ],
 "metadata": {
  "kernelspec": {
   "display_name": "base",
   "language": "python",
   "name": "python3"
  },
  "language_info": {
   "codemirror_mode": {
    "name": "ipython",
    "version": 3
   },
   "file_extension": ".py",
   "mimetype": "text/x-python",
   "name": "python",
   "nbconvert_exporter": "python",
   "pygments_lexer": "ipython3",
   "version": "3.9.13"
  },
  "orig_nbformat": 4
 },
 "nbformat": 4,
 "nbformat_minor": 2
}
