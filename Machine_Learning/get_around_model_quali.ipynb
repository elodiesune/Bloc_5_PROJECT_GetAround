{
 "cells": [
  {
   "attachments": {},
   "cell_type": "markdown",
   "metadata": {},
   "source": [
    "# Imports #"
   ]
  },
  {
   "cell_type": "code",
   "execution_count": 252,
   "metadata": {},
   "outputs": [],
   "source": [
    "import pandas as pd\n",
    "import numpy as np\n",
    "import datetime\n",
    "from sklearn.linear_model import LinearRegression\n",
    "from sklearn.model_selection import train_test_split\n",
    "from sklearn.pipeline import Pipeline\n",
    "from sklearn.impute import SimpleImputer\n",
    "from sklearn.preprocessing import  OneHotEncoder, StandardScaler\n",
    "from sklearn.compose import ColumnTransformer\n",
    "from sklearn.metrics import accuracy_score, r2_score, mean_squared_error\n",
    "\n",
    "import warnings\n",
    "warnings.filterwarnings(\"ignore\", category=DeprecationWarning) # to avoid deprecation warnings\n",
    "\n",
    "from sklearn.model_selection import GridSearchCV\n",
    "from sklearn.linear_model import LinearRegression , Lasso , Ridge, RidgeCV\n",
    "from sklearn.tree import DecisionTreeRegressor\n",
    "from sklearn.ensemble import RandomForestRegressor, BaggingRegressor, AdaBoostRegressor, VotingRegressor, StackingRegressor, GradientBoostingRegressor\n",
    "from xgboost import XGBRegressor \n",
    "from sklearn.svm import SVR, LinearSVR\n",
    "\n",
    "import matplotlib.pyplot as plt\n",
    "\n",
    "import joblib"
   ]
  },
  {
   "attachments": {},
   "cell_type": "markdown",
   "metadata": {},
   "source": [
    "# Preprocessing #"
   ]
  },
  {
   "cell_type": "code",
   "execution_count": 253,
   "metadata": {},
   "outputs": [],
   "source": [
    "pricing = pd.read_csv('get_around_pricing_project.csv',index_col=0)"
   ]
  },
  {
   "cell_type": "code",
   "execution_count": null,
   "metadata": {},
   "outputs": [],
   "source": [
    "# Feature engineering:\n",
    "\n",
    "# pricing['mileage_2'] = pricing['mileage']**2\n",
    "# pricing['mileage_ln'] = np.log(pricing['mileage'])\n",
    "# pricing['engine_power_2'] = pricing['engine_power']**2\n",
    "# pricing['engine_power_3'] = pricing['engine_power']**3\n",
    "# pricing['mileage_engine_power'] = pricing['mileage']*pricing['engine_power']\n",
    "# pricing['mileage_2_engine_power'] = pricing['mileage']**2 * pricing['engine_power']\n",
    "\n",
    "# Remove missing values created by the logarithm:\n",
    "# pricing.dropna(subset=['mileage_ln'], inplace=True)\n",
    "\n",
    "print('All feature engineering were tested on XGBoost, the best model, and all of the decreased the R² for test.')"
   ]
  },
  {
   "cell_type": "code",
   "execution_count": 254,
   "metadata": {},
   "outputs": [
    {
     "name": "stdout",
     "output_type": "stream",
     "text": [
      "\n",
      "Target variable:  rental_price_per_day\n",
      "Y : \n",
      "0    106\n",
      "1    264\n",
      "2    101\n",
      "3    158\n",
      "4    183\n",
      "Name: rental_price_per_day, dtype: int64\n",
      "Features list:  ['model_key', 'mileage', 'engine_power', 'fuel', 'paint_color', 'car_type', 'private_parking_available', 'has_gps', 'has_air_conditioning', 'automatic_car', 'has_getaround_connect', 'has_speed_regulator', 'winter_tires']\n",
      "X :\n",
      "  model_key  mileage  engine_power    fuel paint_color     car_type  \\\n",
      "0   Citroën   140411           100  diesel       black  convertible   \n",
      "1   Citroën    13929           317  petrol        grey  convertible   \n",
      "2   Citroën   183297           120  diesel       white  convertible   \n",
      "3   Citroën   128035           135  diesel         red  convertible   \n",
      "4   Citroën    97097           160  diesel      silver  convertible   \n",
      "\n",
      "   private_parking_available  has_gps  has_air_conditioning  automatic_car  \\\n",
      "0                       True     True                 False          False   \n",
      "1                       True     True                 False          False   \n",
      "2                      False    False                 False          False   \n",
      "3                       True     True                 False          False   \n",
      "4                       True     True                 False          False   \n",
      "\n",
      "   has_getaround_connect  has_speed_regulator  winter_tires  \n",
      "0                   True                 True          True  \n",
      "1                  False                 True          True  \n",
      "2                   True                False          True  \n",
      "3                   True                 True          True  \n",
      "4                  False                 True          True  \n"
     ]
    }
   ],
   "source": [
    "# Separate target variable Y from features X\n",
    "\n",
    "print()\n",
    "target_variable = \"rental_price_per_day\"\n",
    "print(\"Target variable: \",target_variable)\n",
    "Y = pricing.loc[:,target_variable]\n",
    "print('Y : ')\n",
    "print(Y.head())\n",
    "\n",
    "features_list = pricing.drop(target_variable,axis=1).columns.tolist()\n",
    "print(\"Features list: \",features_list)\n",
    "X = pricing.loc[:,features_list]\n",
    "print('X :')\n",
    "print(X.head())\n",
    "categorical_indices = [0,3,4,5,6,7,8,9,10,11,12]\n",
    "numeric_indices = [1,2]"
   ]
  },
  {
   "cell_type": "code",
   "execution_count": 255,
   "metadata": {},
   "outputs": [
    {
     "name": "stdout",
     "output_type": "stream",
     "text": [
      "Dividing into train and test sets...\n",
      "...Done.\n",
      "\n"
     ]
    }
   ],
   "source": [
    "# Divide dataset Train set & Test set \n",
    "print(\"Dividing into train and test sets...\")\n",
    "X_train, X_test, Y_train, Y_test = train_test_split(X, Y, test_size=0.2, random_state=0)\n",
    "print(\"...Done.\")\n",
    "print()"
   ]
  },
  {
   "cell_type": "code",
   "execution_count": 256,
   "metadata": {},
   "outputs": [
    {
     "name": "stdout",
     "output_type": "stream",
     "text": [
      "Performing preprocessings on train set...\n",
      "     model_key  mileage  engine_power    fuel paint_color car_type  \\\n",
      "4550       BMW   132485           135  diesel       white      suv   \n",
      "1237   Citroën   131121           135  diesel       black   estate   \n",
      "3158   Renault   209216           135  diesel        grey    sedan   \n",
      "900    Peugeot   148986           100  diesel       black   estate   \n",
      "933    Citroën   170500           135  diesel       black   estate   \n",
      "\n",
      "      private_parking_available  has_gps  has_air_conditioning  automatic_car  \\\n",
      "4550                       True     True                 False          False   \n",
      "1237                      False     True                 False          False   \n",
      "3158                       True     True                 False          False   \n",
      "900                        True     True                 False          False   \n",
      "933                        True     True                 False          False   \n",
      "\n",
      "      has_getaround_connect  has_speed_regulator  winter_tires  \n",
      "4550                  False                False          True  \n",
      "1237                   True                False          True  \n",
      "3158                   True                False          True  \n",
      "900                   False                False          True  \n",
      "933                   False                False          True  \n",
      "...Done.\n",
      "  (0, 1)\t1.0\n",
      "  (0, 36)\t1.0\n",
      "  (0, 42)\t1.0\n",
      "  (0, 44)\t1.0\n",
      "  (0, 45)\t1.0\n",
      "  (0, 50)\t1.0\n",
      "  (0, 51)\t-0.13697524611219603\n",
      "  (0, 52)\t0.16120867170881872\n",
      "  (1, 2)\t1.0\n",
      "  (1, 28)\t1.0\n",
      "  (1, 38)\t1.0\n",
      "  (1, 45)\t1.0\n",
      "  (1, 48)\t1.0\n",
      "  (1, 50)\t1.0\n",
      "  (1, 51)\t-0.1601928122265152\n",
      "  (1, 52)\t0.16120867170881872\n",
      "  (2, 18)\t1.0\n",
      "  (2, 32)\t1.0\n",
      "  (2, 40)\t1.0\n",
      "  (2, 44)\t1.0\n",
      "  (2, 45)\t1.0\n",
      "  (2, 48)\t1.0\n",
      "  (2, 50)\t1.0\n",
      "  (2, 51)\t1.1691149778744785\n",
      "  (2, 52)\t0.16120867170881872\n",
      "  (3, 16)\t1.0\n",
      "  (3, 28)\t1.0\n",
      "  (3, 38)\t1.0\n",
      "  (3, 44)\t1.0\n",
      "  (3, 45)\t1.0\n",
      "  (3, 50)\t1.0\n",
      "  (3, 51)\t0.14389943017254048\n",
      "  (3, 52)\t-0.7407589686724106\n",
      "  (4, 2)\t1.0\n",
      "  (4, 28)\t1.0\n",
      "  (4, 38)\t1.0\n",
      "  (4, 44)\t1.0\n",
      "  (4, 45)\t1.0\n",
      "  (4, 50)\t1.0\n",
      "  (4, 51)\t0.510103768430211\n",
      "  (4, 52)\t0.16120867170881872\n",
      "\n",
      "Performing preprocessings on test set...\n",
      "     model_key  mileage  engine_power    fuel paint_color   car_type  \\\n",
      "1621   Renault   193231            85  diesel       black     estate   \n",
      "4098       BMW    69362           135  diesel        grey        suv   \n",
      "3135      Audi   321498           170  diesel        blue      sedan   \n",
      "1861   Citroën   192063            90  diesel       black  hatchback   \n",
      "1571   Peugeot   164659           100  diesel       white     estate   \n",
      "\n",
      "      private_parking_available  has_gps  has_air_conditioning  automatic_car  \\\n",
      "1621                      False     True                 False          False   \n",
      "4098                       True     True                 False           True   \n",
      "3135                       True     True                  True          False   \n",
      "1861                      False    False                 False          False   \n",
      "1571                       True     True                 False          False   \n",
      "\n",
      "      has_getaround_connect  has_speed_regulator  winter_tires  \n",
      "1621                  False                False          True  \n",
      "4098                   True                 True          True  \n",
      "3135                   True                 True          True  \n",
      "1861                  False                False          True  \n",
      "1571                  False                False          True  \n",
      "...Done.\n",
      "  (0, 18)\t1.0\n",
      "  (0, 28)\t1.0\n",
      "  (0, 38)\t1.0\n",
      "  (0, 45)\t1.0\n",
      "  (0, 50)\t1.0\n",
      "  (0, 51)\t0.8970234864247778\n",
      "  (0, 52)\t-1.1273165288357947\n",
      "  (1, 1)\t1.0\n",
      "  (1, 32)\t1.0\n",
      "  (1, 42)\t1.0\n",
      "  (1, 44)\t1.0\n",
      "  (1, 45)\t1.0\n",
      "  (1, 47)\t1.0\n",
      "  (1, 48)\t1.0\n",
      "  (1, 49)\t1.0\n",
      "  (1, 50)\t1.0\n",
      "  (1, 51)\t-1.2114345025888595\n",
      "  (1, 52)\t0.16120867170881872\n",
      "  (2, 0)\t1.0\n",
      "  (2, 29)\t1.0\n",
      "  (2, 40)\t1.0\n",
      "  (2, 44)\t1.0\n",
      "  (2, 45)\t1.0\n",
      "  (2, 46)\t1.0\n",
      "  (2, 48)\t1.0\n",
      "  (2, 49)\t1.0\n",
      "  (2, 50)\t1.0\n",
      "  (2, 51)\t3.080342806648661\n",
      "  (2, 52)\t1.0631763120900481\n",
      "  (3, 2)\t1.0\n",
      "  (3, 28)\t1.0\n",
      "  (3, 39)\t1.0\n",
      "  (3, 50)\t1.0\n",
      "  (3, 51)\t0.8771421688136892\n",
      "  (3, 52)\t-0.9984640087813332\n",
      "  (4, 16)\t1.0\n",
      "  (4, 36)\t1.0\n",
      "  (4, 38)\t1.0\n",
      "  (4, 44)\t1.0\n",
      "  (4, 45)\t1.0\n",
      "  (4, 50)\t1.0\n",
      "  (4, 51)\t0.41068015869873137\n",
      "  (4, 52)\t-0.7407589686724106\n",
      "\n"
     ]
    },
    {
     "name": "stderr",
     "output_type": "stream",
     "text": [
      "c:\\Users\\elodi\\anaconda3\\lib\\site-packages\\sklearn\\preprocessing\\_encoders.py:170: UserWarning:\n",
      "\n",
      "Found unknown categories in columns [0] during transform. These unknown categories will be encoded as all zeros\n",
      "\n"
     ]
    }
   ],
   "source": [
    "# Create pipeline for numeric features\n",
    "numeric_transformer = Pipeline(steps=[\n",
    "    # ('imputer', SimpleImputer(strategy='mean')), # missing values will be replaced by columns' median\n",
    "    ('scaler', StandardScaler())\n",
    "])\n",
    "\n",
    "# Create pipeline for categorical features\n",
    "categorical_transformer = Pipeline(\n",
    "    steps=[\n",
    "    # ('imputer', SimpleImputer(strategy='most_frequent')), # missing values will be replaced by most frequent value\n",
    "    ('encoder', OneHotEncoder(drop='first',categories='auto',handle_unknown='ignore')) # first column will be dropped to avoid creating correlations between features, auto for representations of all catego\n",
    "    ])\n",
    "\n",
    "# Applying pipeline on X variables depending on columns\n",
    "feature_encoder = ColumnTransformer(\n",
    "    transformers=[\n",
    "        ('cat', categorical_transformer, categorical_indices),    \n",
    "        ('num', numeric_transformer, numeric_indices)\n",
    "        ]\n",
    "    )\n",
    "\n",
    "# Preprocessings on train set\n",
    "print(\"Performing preprocessings on train set...\")\n",
    "print(X_train.head())\n",
    "X_train = feature_encoder.fit_transform(X_train)\n",
    "print('...Done.')\n",
    "print(X_train[0:5,:])\n",
    "print()\n",
    "\n",
    "# Preprocessings on test set\n",
    "print(\"Performing preprocessings on test set...\")\n",
    "print(X_test.head())\n",
    "X_test = feature_encoder.transform(X_test) # Don't fit again !!\n",
    "print('...Done.')\n",
    "print(X_test[0:5,:])\n",
    "print()"
   ]
  },
  {
   "cell_type": "code",
   "execution_count": 257,
   "metadata": {},
   "outputs": [
    {
     "name": "stdout",
     "output_type": "stream",
     "text": [
      "Preprocessing Y_train and Y_test\n",
      "[[ 0.28870358]\n",
      " [ 0.19972448]\n",
      " [ 0.14040508]\n",
      " [-0.30449044]\n",
      " [-0.63074716]]\n",
      "[[-0.71972626]\n",
      " [ 0.97087671]\n",
      " [-1.16462178]\n",
      " [-1.90611432]\n",
      " [-0.57142776]]\n"
     ]
    }
   ],
   "source": [
    "Y_train = Y_train.to_numpy().reshape(-1,1)\n",
    "Y_test = Y_test.to_numpy().reshape(-1,1)\n",
    "\n",
    "scaler = StandardScaler()\n",
    "\n",
    "print(\"Preprocessing Y_train and Y_test\")\n",
    "Y_train = scaler.fit_transform(Y_train)\n",
    "print(Y_train[0:5,:])\n",
    "Y_test = scaler.transform(Y_test)\n",
    "print(Y_test[0:5,:])"
   ]
  },
  {
   "attachments": {},
   "cell_type": "markdown",
   "metadata": {},
   "source": [
    "# MODELS #"
   ]
  },
  {
   "cell_type": "code",
   "execution_count": 258,
   "metadata": {},
   "outputs": [],
   "source": [
    "# Models to be tested\n",
    "\n",
    "models = [\n",
    "    {\n",
    "        'name': 'Linear Regression',\n",
    "        'model': LinearRegression(),\n",
    "        'params': {}\n",
    "    },\n",
    "    {\n",
    "        'name': 'Lasso',\n",
    "        'model': Lasso(),\n",
    "        'params': {'alpha': [0.0, 0.1, 0.5, 1.0, 2, 3, 5, 10]}  # Adjusted alpha values\n",
    "    },\n",
    "    {\n",
    "        'name': 'Ridge',\n",
    "        'model': Ridge(),\n",
    "        'params': {'alpha': [0.0, 0.1, 0.5, 1.0, 2, 3, 5, 10]}  # Adjusted alpha values\n",
    "    },\n",
    "    {\n",
    "        'name': 'Decision Tree',\n",
    "        'model': DecisionTreeRegressor(),\n",
    "        'params': {\n",
    "            'max_depth': [1, 2, 3, 4, 6, 8, 10, 12, 15, 20],  # Adjusted max_depth values\n",
    "            'min_samples_leaf': [1, 2, 5],\n",
    "            'min_samples_split': [1, 2, 4, 8]\n",
    "        }\n",
    "    },\n",
    "    {\n",
    "        'name': 'Random Forest',\n",
    "        'model': RandomForestRegressor(),\n",
    "        'params': {\n",
    "            'max_depth': [2, 4, 6, 8, 10],\n",
    "            'min_samples_leaf': [1, 2, 5],\n",
    "            'min_samples_split': [2, 4, 8],\n",
    "            'n_estimators': [10, 20, 40, 60, 80, 100, 150, 200]  # Adjusted n_estimators values\n",
    "        }\n",
    "    },\n",
    "    {\n",
    "        'name': 'SVR linear',\n",
    "        'model': SVR(kernel='linear'),\n",
    "        'params': {'C': [0.1, 1, 10]}  # Adjusted C values\n",
    "    },\n",
    "    {\n",
    "        'name': 'SVR poly',\n",
    "        'model': SVR(kernel='poly'),\n",
    "        'params': {'degree': [2, 3, 4]}  # Adjusted degree values\n",
    "    },\n",
    "    {\n",
    "        'name': 'SVR rbf',\n",
    "        'model': SVR(kernel='rbf'),\n",
    "        'params': {'C': [0.1, 1, 10], 'gamma': ['scale', 'auto']}  # Adjusted C and gamma values\n",
    "    },\n",
    "    {\n",
    "        'name': 'XGBoost',\n",
    "        'model': XGBRegressor(),\n",
    "        'params': {\n",
    "            'n_estimators': [50, 100, 150, 200],  # Adjusted n_estimators values\n",
    "            'learning_rate': [1.0, 0.5, 0.1],\n",
    "            'max_depth': [3, 4, 5],  # Additional parameter to adjust\n",
    "            'min_child_weight': [1, 2, 3],  # Additional parameter to adjust\n",
    "            'gamma': [0, 0.1, 0.2]  # Additional parameter to adjust\n",
    "        }\n",
    "    },\n",
    "]\n"
   ]
  },
  {
   "cell_type": "code",
   "execution_count": null,
   "metadata": {},
   "outputs": [],
   "source": [
    "results = []\n",
    "\n",
    "# Iterate over models, doing a gridsearch for choosing the best params for each model. \n",
    "for model_info in models:\n",
    "    model_name = model_info['name']\n",
    "    model = model_info['model']\n",
    "    params = model_info['params']\n",
    "    grid_search = GridSearchCV(model, params, cv=3)\n",
    "    grid_search.fit(X_train, Y_train)\n",
    "\n",
    "    # Evaluation and storage of performance in a variable \"results\"\n",
    "    best_model = grid_search.best_estimator_\n",
    "    best_params = grid_search.best_params_\n",
    "    train_preds = best_model.predict(X_train)\n",
    "    test_preds = best_model.predict(X_test)\n",
    "    train_r2 = r2_score(Y_train, train_preds)\n",
    "    test_r2 = r2_score(Y_test, test_preds)\n",
    "    results.append({'Model': model_name, 'Train R2': train_r2, 'Test R2': test_r2, 'Best Model': best_model, 'Best Params': best_params, 'Train Preds':train_preds, 'Test Preds':test_preds})\n"
   ]
  },
  {
   "cell_type": "code",
   "execution_count": 260,
   "metadata": {},
   "outputs": [
    {
     "name": "stdout",
     "output_type": "stream",
     "text": [
      "               Model  Train R2   Test R2\n",
      "8            XGBoost  0.877933  0.777765\n",
      "4      Random Forest  0.879949  0.756269\n",
      "7            SVR rbf  0.762156  0.722240\n",
      "6           SVR poly  0.753238  0.715685\n",
      "5         SVR linear  0.702878  0.689473\n",
      "0  Linear Regression  0.715670  0.689282\n",
      "1              Lasso  0.715668  0.689109\n",
      "2              Ridge  0.712622  0.686857\n",
      "3      Decision Tree  0.804017  0.660125\n"
     ]
    }
   ],
   "source": [
    "# Results storage in a DataFrame\n",
    "results_df = pd.DataFrame(results)\n",
    "results_df = results_df.iloc[:,:3]\n",
    "sorted_results_df = results_df.sort_values(by='Test R2', ascending=False)\n",
    "print(sorted_results_df)"
   ]
  },
  {
   "attachments": {},
   "cell_type": "markdown",
   "metadata": {},
   "source": [
    "# ENSEMBLE METHODS #"
   ]
  },
  {
   "cell_type": "code",
   "execution_count": 269,
   "metadata": {},
   "outputs": [
    {
     "name": "stdout",
     "output_type": "stream",
     "text": [
      "['XGBoost', 'Random Forest', 'SVR rbf']\n"
     ]
    }
   ],
   "source": [
    "# Choose the best models for ensemble methods\n",
    "top3_models = sorted_results_df['Model'].head(3).tolist()\n",
    "print(top3_models)\n",
    "# Retrieve the models from results, and their features\n",
    "top3_result = [result for result in results if result['Model'] in top3_models]"
   ]
  },
  {
   "cell_type": "code",
   "execution_count": 270,
   "metadata": {},
   "outputs": [],
   "source": [
    "# Ensemble methods to test\n",
    "ensemble_methods = [\n",
    "    {'name': 'Voting', 'model': VotingRegressor},\n",
    "    {'name': 'Stacking', 'model': StackingRegressor},\n",
    "    {'name': 'Bagging', 'model': BaggingRegressor},\n",
    "    {'name': 'AdaBoosting', 'model': AdaBoostRegressor},\n",
    "    {'name': 'GradientBoosting', 'model': GradientBoostingRegressor},]"
   ]
  },
  {
   "cell_type": "code",
   "execution_count": null,
   "metadata": {},
   "outputs": [],
   "source": [
    "# Iterate over ensemble methods:\n",
    "\n",
    "ensemble_results = []\n",
    "\n",
    "for ensemble_info in ensemble_methods:\n",
    "    ensemble_name = ensemble_info['name']\n",
    "    ensemble_model = ensemble_info['model']\n",
    "    ensemble_estimators = []\n",
    "    # Create estimators for the ensemble model\n",
    "    for result in top3_result:\n",
    "        model_name = result['Model']\n",
    "        best_model = result['Best Model']\n",
    "        estimator = (model_name, best_model)  # Use the best_model corresponding to the current model_name\n",
    "        ensemble_estimators.append(estimator)\n",
    "    if ensemble_name == 'Voting':\n",
    "        ensemble = ensemble_model(estimators=ensemble_estimators)\n",
    "    elif ensemble_name == 'Stacking':\n",
    "        ensemble = ensemble_model(estimators=ensemble_estimators, final_estimator=RidgeCV())\n",
    "    else:\n",
    "        ensemble = ensemble_model()\n",
    "    # Fit the ensemble model on the stacked features\n",
    "    ensemble.fit(X_train, Y_train)\n",
    "    # Evaluate the ensemble model\n",
    "    train_r2 = r2_score(Y_train, ensemble.predict(X_train))\n",
    "    test_r2 = r2_score(Y_test, ensemble.predict(X_test))\n",
    "\n",
    "    # Store the results in a DataFrame\n",
    "    ensemble_results.append({'Ensemble Method': ensemble_name, 'Train R2': train_r2, 'Test R2': test_r2})\n",
    "    # Saving model\n",
    "    model_filename = f'{ensemble_name}_model.joblib'\n",
    "    joblib.dump(ensemble, model_filename)\n",
    "    joblib.dump({'ensemble': ensemble, 'model_filename': model_filename, 'feature_encoder': feature_encoder, 'scaler': scaler}, model_filename)\n",
    "    print(f'Saved {ensemble_name} model to {model_filename}')"
   ]
  },
  {
   "cell_type": "code",
   "execution_count": 294,
   "metadata": {},
   "outputs": [
    {
     "name": "stdout",
     "output_type": "stream",
     "text": [
      "    Ensemble Method  Train R2   Test R2\n",
      "1          Stacking  0.870110  0.782141\n",
      "0            Voting  0.858374  0.776010\n",
      "2           Bagging  0.952610  0.741033\n",
      "4  GradientBoosting  0.780259  0.736385\n",
      "3       AdaBoosting  0.436294  0.363589\n"
     ]
    }
   ],
   "source": [
    "# Create a final DataFrame with the ensemble results\n",
    "final_results_df = pd.DataFrame(ensemble_results)\n",
    "sorted_final_results_df = final_results_df.sort_values(by='Test R2', ascending=False)\n",
    "print(sorted_final_results_df)"
   ]
  },
  {
   "attachments": {},
   "cell_type": "markdown",
   "metadata": {},
   "source": [
    "# Final Results #"
   ]
  },
  {
   "cell_type": "code",
   "execution_count": 295,
   "metadata": {},
   "outputs": [
    {
     "name": "stdout",
     "output_type": "stream",
     "text": [
      "The best R² test score is reached with a stacking ensemble.\n"
     ]
    }
   ],
   "source": [
    "print(\"The best R² test score is reached with a stacking ensemble.\")"
   ]
  },
  {
   "cell_type": "code",
   "execution_count": 356,
   "metadata": {},
   "outputs": [
    {
     "data": {
      "image/png": "[encoded data removed]",
      "text/plain": [
       "<Figure size 800x400 with 1 Axes>"
      ]
     },
     "metadata": {},
     "output_type": "display_data"
    }
   ],
   "source": [
    "# Features importances\n",
    "\n",
    "xgboost_model = [result['Best Model'] for result in results if result['Model'] == 'XGBoost'][0]\n",
    "xgboost_model.fit(X_train, Y_train)\n",
    "feature_importance = xgboost_model.feature_importances_\n",
    "# Convert the sparse matrix to a dense matrix\n",
    "X_train_dense = X_train.toarray()\n",
    "original_feature_importance = feature_importance[:13]\n",
    "feature_importance_df = pd.DataFrame({'Feature': features_list, 'Importance': original_feature_importance})\n",
    "sorted_feature_importance_df = feature_importance_df.sort_values(by='Importance', ascending=True)\n",
    "sorted_feature_importance = sorted_feature_importance_df['Importance'].values\n",
    "sorted_feature_names = sorted_feature_importance_df['Feature'].values\n",
    "\n",
    "# Plot the sorted feature importance\n",
    "plt.figure(figsize=(8, 4))\n",
    "plt.barh(range(len(sorted_feature_importance)), sorted_feature_importance)\n",
    "plt.ylabel('Feature')\n",
    "plt.xlabel('Importance')\n",
    "plt.title('Feature Importances - XGBoost')\n",
    "plt.yticks(range(len(sorted_feature_importance)), sorted_feature_names)\n",
    "plt.show()"
   ]
  }
 ],
 "metadata": {
  "kernelspec": {
   "display_name": "base",
   "language": "python",
   "name": "python3"
  },
  "language_info": {
   "codemirror_mode": {
    "name": "ipython",
    "version": 3
   },
   "file_extension": ".py",
   "mimetype": "text/x-python",
   "name": "python",
   "nbconvert_exporter": "python",
   "pygments_lexer": "ipython3",
   "version": "3.9.13"
  },
  "orig_nbformat": 4
 },
 "nbformat": 4,
 "nbformat_minor": 2
}
